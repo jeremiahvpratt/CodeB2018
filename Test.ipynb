{
 "cells": [
  {
   "cell_type": "code",
   "execution_count": 1,
   "metadata": {},
   "outputs": [],
   "source": [
    "import numpy as np"
   ]
  },
  {
   "cell_type": "code",
   "execution_count": 5,
   "metadata": {},
   "outputs": [],
   "source": [
    "def moveToPoint(xCur,yCur,dx,dy,xDest,yDest):\n",
    "    while(dx > cd .)\n",
    "    \n",
    "    print(accelAngle)\n",
    "    print(targetAngle)\n",
    "    print(moveAngle)\n",
    "#     centerPoint = [xCur,yDest]\n",
    "#     linePoint = [(xCur + xDest)/2,(yCur + yDest)/2]\n",
    "#     accelPoint = [(centerPoint[0]+linePoint[0])/2,(centerPoint[1]+linePoint[1])/2]"
   ]
  },
  {
   "cell_type": "code",
   "execution_count": 6,
   "metadata": {},
   "outputs": [
    {
     "name": "stdout",
     "output_type": "stream",
     "text": [
      "1.1071487177940904\n",
      "1.2793395323170296\n",
      "1.4515303468399687\n"
     ]
    }
   ],
   "source": [
    "moveToPoint(0,0,5,10,30,100)"
   ]
  },
  {
   "cell_type": "code",
   "execution_count": null,
   "metadata": {},
   "outputs": [],
   "source": [
    "test = [[0,1],[2,3]]\n",
    "test[0][0]"
   ]
  },
  {
   "cell_type": "code",
   "execution_count": null,
   "metadata": {},
   "outputs": [],
   "source": []
  }
 ],
 "metadata": {
  "kernelspec": {
   "display_name": "Python 3",
   "language": "python",
   "name": "python3"
  },
  "language_info": {
   "codemirror_mode": {
    "name": "ipython",
    "version": 3
   },
   "file_extension": ".py",
   "mimetype": "text/x-python",
   "name": "python",
   "nbconvert_exporter": "python",
   "pygments_lexer": "ipython3",
   "version": "3.5.5"
  }
 },
 "nbformat": 4,
 "nbformat_minor": 2
}
